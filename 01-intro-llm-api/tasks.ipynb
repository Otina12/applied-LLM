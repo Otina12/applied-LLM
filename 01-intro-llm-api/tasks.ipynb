{
  "cells": [
    {
      "cell_type": "code",
      "execution_count": 1,
      "metadata": {},
      "outputs": [
        {
          "data": {
            "text/plain": [
              "True"
            ]
          },
          "execution_count": 1,
          "metadata": {},
          "output_type": "execute_result"
        }
      ],
      "source": [
        "from dotenv import load_dotenv\n",
        "load_dotenv()"
      ]
    },
    {
      "cell_type": "code",
      "execution_count": 2,
      "metadata": {},
      "outputs": [],
      "source": [
        "import os\n",
        "import json\n",
        "from openai import OpenAI"
      ]
    },
    {
      "cell_type": "markdown",
      "metadata": {
        "id": "UOXuouDvaiqw"
      },
      "source": [
        "# Applied LLM Systems - Lab Exercise 1: City-Country Mapping\n",
        "\n",
        "## 🎯 Objective\n",
        "\n",
        "Build an LLM-based system that converts a text file of city names into a structured JSON file mapping each city to its country.\n",
        "\n",
        "## 📋 Task Description\n",
        "\n",
        "You are given a text file (`cities.txt`) containing city names. Your task is to create a system that outputs a JSON file (`cities_countries.json`) with this structure:\n",
        "\n",
        "```json\n",
        "{\n",
        "  \"Tokyo\": \"Japan\",\n",
        "  \"Paris\": \"France\",\n",
        "  \"New York\": \"United States\",\n",
        "  \"Sydney\": \"Australia\"\n",
        "}\n",
        "```\n",
        "\n",
        "## 🔧 Requirements\n",
        "\n",
        "1. Use any LLM provider of your choice (OpenAI, Anthropic, Cohere, etc.)\n",
        "2. Acquire an API key from your chosen provider's platform\n",
        "3. Store the API key as an environment variable\n",
        "4. Write code that:\n",
        "   - Reads the input text file\n",
        "   - Processes city names using the LLM\n",
        "   - Outputs valid JSON in the required format\n",
        "\n",
        "\n"
      ]
    },
    {
      "cell_type": "code",
      "execution_count": 3,
      "metadata": {
        "id": "PB562Va8a35n"
      },
      "outputs": [
        {
          "name": "stdout",
          "output_type": "stream",
          "text": [
            "Saved cities_countries.json\n"
          ]
        }
      ],
      "source": [
        "openai_api_key = os.getenv(\"OPENAI_API_KEY\")\n",
        "\n",
        "if not openai_api_key:\n",
        "    raise RuntimeError(\"Set OPENAI_API_KEY\")\n",
        "\n",
        "client = OpenAI(api_key=openai_api_key)\n",
        "\n",
        "with open(fr\"assets\\task1\\in\\cities.txt\", \"r\", encoding=\"utf-8\") as f:\n",
        "    cities = [line.strip() for line in f if line.strip()]\n",
        "\n",
        "user_prompt = (\n",
        "    \"You are a careful assistant that returns strict JSON only.\"\n",
        "    \"Map each given city name to its country. Use English country names.\"\n",
        "    \"Do not add extra keys. Do not include comments or explanations.\"\n",
        "    \"If a city is ambiguous, or has syntax or, grammar errors, extra spaces, or extra or missing letters, pick the best known match.\"\n",
        "    \"If the city is not real, use 'Unknown' as the country value.\"\n",
        "    \"Return a JSON object that maps each city to its country.\"\n",
        "    \"Use exactly the provided city strings as keys. Cities:\\n\\n\" + \"\\n\".join(cities)\n",
        ")\n",
        "\n",
        "resp = client.chat.completions.create(\n",
        "    model=os.getenv(\"MODEL\", \"gpt-4o-mini\"),\n",
        "    messages=[\n",
        "        {\"role\": \"user\", \"content\": user_prompt}\n",
        "    ],\n",
        "    response_format={\"type\": \"json_object\"},\n",
        "    temperature=0,\n",
        ")\n",
        "\n",
        "data = json.loads(resp.choices[0].message.content)\n",
        "\n",
        "out = {city: str(data.get(city, \"\")) for city in cities}\n",
        "\n",
        "with open(fr\"assets\\task1\\out\\cities_countries.json\", \"w\", encoding=\"utf-8\") as f:\n",
        "    json.dump(out, f, indent=2, ensure_ascii=False)\n",
        "\n",
        "print(\"Saved cities_countries.json\")"
      ]
    },
    {
      "cell_type": "markdown",
      "metadata": {
        "id": "2XQPAQvTa6CT"
      },
      "source": [
        "# Applied LLM Systems - Lab Exercise 2: Finding Closest Cities\n",
        "\n",
        "## 🎯 Objective\n",
        "\n",
        "Use LLMs as tools to solve a multi-step problem: finding the pair of cities with the shortest distance between them. This exercise demonstrates how to break down complex tasks and use LLMs to generate both data and code.\n",
        "\n",
        "## 📋 Task Description\n",
        "\n",
        "Given your list of cities from the previous exercise, find which two cities are geographically closest to each other.\n",
        "\n",
        "**Important**: LLMs typically cannot directly calculate distances between cities accurately. Instead, you'll use the LLM as a tool-generating assistant.\n",
        "\n",
        "## 🔧 Your Workflow\n",
        "\n",
        "### Step 1: Generate Coordinates\n",
        "Ask your LLM to generate geographical coordinates (latitude and longitude) for each city from your list. Save this as a JSON file:\n",
        "\n",
        "```json\n",
        "{\n",
        "  \"Tokyo\": {\"lat\": 35.6762, \"lon\": 139.6503},\n",
        "  \"Paris\": {\"lat\": 48.8566, \"lon\": 2.3522},\n",
        "  \"Berlin\": {\"lat\": 52.5200, \"lon\": 13.4050}\n",
        "}\n",
        "```\n",
        "\n",
        "### Step 2: Generate Distance Calculator\n",
        "Ask your LLM to write a Python script that:\n",
        "- Reads the coordinates JSON file\n",
        "- Calculates distances between all pairs of cities (brute force is fine)\n",
        "- Identifies and prints the closest pair\n",
        "\n",
        "Save this generated code as `main.py`\n",
        "\n",
        "### Step 3: Execute\n",
        "Run the generated script (from notebook) with your coordinates JSON:\n",
        "```bash\n",
        "python main.py --json_path cordinates.json\n",
        "```\n",
        "\n",
        "The output should identify the closest pair and their distance.\n",
        "\n",
        "\n"
      ]
    },
    {
      "cell_type": "code",
      "execution_count": 4,
      "metadata": {
        "id": "KWwHywykdpJH"
      },
      "outputs": [
        {
          "name": "stdout",
          "output_type": "stream",
          "text": [
            "Saved city_coords.json\n"
          ]
        }
      ],
      "source": [
        "openai_api_key = os.getenv(\"OPENAI_API_KEY\")\n",
        "\n",
        "if not openai_api_key:\n",
        "    raise RuntimeError(\"Set OPENAI_API_KEY\")\n",
        "\n",
        "client = OpenAI(api_key=openai_api_key)\n",
        "\n",
        "with open(fr\"assets\\task2\\in\\cities.txt\", \"r\", encoding=\"utf-8\") as f:\n",
        "    cities = [line.strip() for line in f if line.strip()]\n",
        "\n",
        "system_prompt = (\n",
        "    \"You are a careful assistant that returns strict JSON only. \"\n",
        "    \"Given a list of city names, produce a JSON object where each key is the exact city string, \"\n",
        "    \"and each value is an object with numeric fields 'lat' and 'lon' in decimal degrees. \"\n",
        "    \"Use English place names only. \"\n",
        "    \"If a city string is ambiguous or slightly misspelled, choose the best known match. \"\n",
        "    \"If the city does not exist, return {\\\"lat\\\": null, \\\"lon\\\": null} for that city. \"\n",
        "    \"Do not include comments or explanations.\"\n",
        ")\n",
        "\n",
        "user_prompt = \"Cities:\\n\\n\" + \"\\n\".join(cities)\n",
        "\n",
        "resp = client.chat.completions.create(\n",
        "    model=\"gpt-4o-mini\",\n",
        "    messages=[\n",
        "        {\"role\": \"system\", \"content\": system_prompt},\n",
        "        {\"role\": \"user\", \"content\": user_prompt},\n",
        "    ],\n",
        "    response_format={\"type\": \"json_object\"},\n",
        "    temperature=0,\n",
        ")\n",
        "\n",
        "coords = json.loads(resp.choices[0].message.content)\n",
        "\n",
        "out = {}\n",
        "\n",
        "for c in cities:\n",
        "    v = coords.get(c, {})\n",
        "    lat = v.get(\"lat\", None)\n",
        "    lon = v.get(\"lon\", None)\n",
        "\n",
        "    try:\n",
        "        lat = float(lat) if lat is not None else None\n",
        "    except Exception:\n",
        "        lat = None\n",
        "    try:\n",
        "        lon = float(lon) if lon is not None else None\n",
        "    except Exception:\n",
        "        lon = None\n",
        "\n",
        "    out[c] = {\"lat\": lat, \"lon\": lon}\n",
        "\n",
        "with open(fr\"assets\\task2\\out\\city_coords.json\", \"w\", encoding=\"utf-8\") as f:\n",
        "    json.dump(out, f, indent=2, ensure_ascii=False)\n",
        "\n",
        "print(\"Saved city_coords.json\")"
      ]
    },
    {
      "cell_type": "code",
      "execution_count": 5,
      "metadata": {},
      "outputs": [
        {
          "name": "stdout",
          "output_type": "stream",
          "text": [
            "Wrote main.py\n"
          ]
        }
      ],
      "source": [
        "prompt = (\n",
        "    \"Write a complete Python 3 script named main.py. \"\n",
        "    \"Do not include backticks. Do not add explanations. \"\n",
        "    \"The script must:\\n\"\n",
        "    \"1) Accept a command line argument --json_path that points to a JSON file with structure:\\n\"\n",
        "    \"{\\n\"\n",
        "    '  \"CityA\": {\"lat\": 12.34, \"lon\": 56.78},\\n'\n",
        "    '  \"CityB\": {\"lat\": 90.12, \"lon\": 34.56}\\n'\n",
        "    \"}\\n\"\n",
        "    \"2) Load the file, ignore entries where lat or lon is null. \"\n",
        "    \"3) Compute great circle distances in kilometers for all city pairs using the Haversine formula. \"\n",
        "    \"4) Find the closest pair. \"\n",
        "    \"5) Print exactly these lines:\\n\"\n",
        "    \"Closest pair: <City1> and <City2>\\n\"\n",
        "    \"Distance (km): <number with 3 decimals>\\n\"\n",
        "    \"6) Use only Python standard library. \"\n",
        "    \"7) Handle empty or single city gracefully with a clear message and exit code 0.\"\n",
        ")\n",
        "\n",
        "resp = client.chat.completions.create(\n",
        "    model=\"gpt-4o-mini\",\n",
        "    messages=[{\"role\": \"user\", \"content\": prompt}],\n",
        "    temperature=0,\n",
        ")\n",
        "\n",
        "code = resp.choices[0].message.content\n",
        "\n",
        "with open(fr\"assets\\task2\\out\\main.py\", \"w\", encoding=\"utf-8\") as f:\n",
        "    f.write(code)\n",
        "\n",
        "print(\"Wrote main.py\")"
      ]
    },
    {
      "cell_type": "code",
      "execution_count": 6,
      "metadata": {},
      "outputs": [
        {
          "name": "stdout",
          "output_type": "stream",
          "text": [
            "Closest pair: Paris and madrid\n",
            "Distance (km): 1052.896\n"
          ]
        }
      ],
      "source": [
        "!python assets\\task2\\out\\main.py --json_path assets/task2/out/city_coords.json\n"
      ]
    }
  ],
  "metadata": {
    "colab": {
      "provenance": []
    },
    "kernelspec": {
      "display_name": ".venv",
      "language": "python",
      "name": "python3"
    },
    "language_info": {
      "codemirror_mode": {
        "name": "ipython",
        "version": 3
      },
      "file_extension": ".py",
      "mimetype": "text/x-python",
      "name": "python",
      "nbconvert_exporter": "python",
      "pygments_lexer": "ipython3",
      "version": "3.12.6"
    }
  },
  "nbformat": 4,
  "nbformat_minor": 0
}
